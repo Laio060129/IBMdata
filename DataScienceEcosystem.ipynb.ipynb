{
 "cells": [
  {
   "cell_type": "markdown",
   "id": "d5a3a7f3-13ca-4efc-bd9a-1df5d3d995a9",
   "metadata": {},
   "source": [
    "# Data Science Tools and Ecosystem"
   ]
  },
  {
   "cell_type": "markdown",
   "id": "eeb73e97-35d1-411e-9e08-8e5478ffdbfb",
   "metadata": {},
   "source": [
    "In this notebook, Data Science Tools and Ecosystem are summarized."
   ]
  },
  {
   "cell_type": "markdown",
   "id": "af6a220f-ed48-4ee2-b602-97e024ae44c2",
   "metadata": {},
   "source": [
    "Some of the popular languages that Data Scientists use are:\n",
    "* python\n",
    "* R\n",
    "* JAVA"
   ]
  },
  {
   "cell_type": "markdown",
   "id": "6a352ade-95cd-44b5-b766-cd14ca8baaf7",
   "metadata": {},
   "source": [
    "Some of the commonly used libraries used by Data Scientists include:\n",
    "1. pandas\n",
    "2. numpy\n",
    "3. matplotlib"
   ]
  },
  {
   "cell_type": "markdown",
   "id": "cdf29c8d-7423-474c-a3c7-c30bf90a7d26",
   "metadata": {},
   "source": [
    "|Data Science Tools.|\n",
    "|-|\n",
    "|jupyterlab|\n",
    "|Retudio|\n",
    "|vscode|"
   ]
  },
  {
   "cell_type": "markdown",
   "id": "7f12bbde-4377-4f9a-87c4-87a5d1400b19",
   "metadata": {},
   "source": [
    "### Below are a few examples of evaluating arithmetic expressions in Python."
   ]
  },
  {
   "cell_type": "code",
   "execution_count": 3,
   "id": "85e11ce4-5705-488e-b1bb-148035cdfbe3",
   "metadata": {},
   "outputs": [
    {
     "data": {
      "text/plain": [
       "17.0"
      ]
     },
     "execution_count": 3,
     "metadata": {},
     "output_type": "execute_result"
    }
   ],
   "source": [
    "#This a simple arithmetic expression to mutiply then add integers\n",
    "(3*4)+5."
   ]
  },
  {
   "cell_type": "code",
   "execution_count": 5,
   "id": "f4c94f30-6d47-4fd1-85d4-40cbb3516b2f",
   "metadata": {},
   "outputs": [
    {
     "name": "stdout",
     "output_type": "stream",
     "text": [
      "3.3333333333333335\n"
     ]
    }
   ],
   "source": [
    "#This will convert 200 minutes to hours by diving by 60.\n",
    "hours=200/60\n",
    "print(hours)"
   ]
  },
  {
   "cell_type": "markdown",
   "id": "7fbe2b6c-dfe3-4440-a1a7-06a3d793dd33",
   "metadata": {},
   "source": [
    "**Objectives**\n",
    "* List popular languages for Data Science\n",
    "* List popular libraries for Data Science\n",
    "* List popular tools for Data Science"
   ]
  },
  {
   "cell_type": "markdown",
   "id": "8a8e18c1-eceb-440d-85a1-e70c068c78bd",
   "metadata": {},
   "source": [
    "## Author\n",
    "Zhaoyuan Chang"
   ]
  }
 ],
 "metadata": {
  "kernelspec": {
   "display_name": "Python [conda env:base] *",
   "language": "python",
   "name": "conda-base-py"
  },
  "language_info": {
   "codemirror_mode": {
    "name": "ipython",
    "version": 3
   },
   "file_extension": ".py",
   "mimetype": "text/x-python",
   "name": "python",
   "nbconvert_exporter": "python",
   "pygments_lexer": "ipython3",
   "version": "3.12.7"
  }
 },
 "nbformat": 4,
 "nbformat_minor": 5
}
